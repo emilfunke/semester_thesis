{
 "cells": [
  {
   "cell_type": "code",
   "execution_count": 5,
   "metadata": {
    "collapsed": true
   },
   "outputs": [],
   "source": [
    "from __future__ import print_function, division\n",
    "import os\n",
    "import torch\n",
    "import pandas as pd\n",
    "from skimage import io, transform\n",
    "import numpy as np\n",
    "import matplotlib.pyplot as plt\n",
    "import matplotlib.patches as patches\n",
    "from torch.utils.data import Dataset, DataLoader, default_convert\n",
    "from torchvision import transforms, utils\n",
    "import torch.nn as nn\n",
    "import torch.nn.functional as F\n",
    "import torch.optim as optim\n",
    "import cv2\n",
    "import time\n",
    "from tqdm import tqdm\n",
    "from sklearn.model_selection import train_test_split\n",
    "from datetime import datetime"
   ]
  },
  {
   "cell_type": "code",
   "execution_count": 6,
   "outputs": [],
   "source": [
    "class GazeEstimationDataset(Dataset):\n",
    "    def __init__(self, csv_file, root_dir, transform=None):\n",
    "        self.root_dir = root_dir\n",
    "        self.transform = transform\n",
    "        self.eyes_frame = pd.read_csv(csv_file)\n",
    "\n",
    "    def __len__(self):\n",
    "        return len(self.eyes_frame)\n",
    "\n",
    "    def __getitem__(self, idx):\n",
    "        if torch.is_tensor(idx):\n",
    "            idx = idx.tolist()\n",
    "        img_name = self.eyes_frame.iloc[idx, 0]\n",
    "        image = io.imread(img_name)\n",
    "        image = image/255\n",
    "        rgb_img = np.repeat(image[..., np.newaxis], 3, -1)\n",
    "        #print(rgb_img.shape, \"image shape\")\n",
    "        face_img_coor = np.fromstring(self.eyes_frame.iloc[idx, 3][1:int(len(self.eyes_frame.iloc[idx, 3]) - 1)],\n",
    "                                      sep=',',\n",
    "                                      dtype=int)\n",
    "        roi_eyes_coor = np.fromstring(self.eyes_frame.iloc[idx, 4][1:int(len(self.eyes_frame.iloc[idx, 4]) - 1)],\n",
    "                                      sep=',', dtype=int)\n",
    "        face_img = rgb_img[face_img_coor[0]: face_img_coor[0] + face_img_coor[2],\n",
    "                   face_img_coor[1]: face_img_coor[1] + face_img_coor[3], :]\n",
    "\n",
    "        opt_flow_name = self.eyes_frame.iloc[idx, 5]\n",
    "        opt_flow = pd.read_csv(opt_flow_name)\n",
    "        sample = {'name': img_name, 'face': face_img, 'face_coor': face_img_coor, 'eyes_coor': roi_eyes_coor,\n",
    "                  'x': self.eyes_frame.iloc[idx, 1], 'y': self.eyes_frame.iloc[idx, 2]}\n",
    "        '''opt_flow': opt_flow'''\n",
    "        if self.transform:\n",
    "            sample = self.transform(sample)\n",
    "        return sample\n",
    "\n",
    "\n",
    "class Rescale(object):\n",
    "    def __init__(self, output_size):\n",
    "        assert isinstance(output_size, (int, tuple))\n",
    "        self.output_size = output_size\n",
    "\n",
    "    def __call__(self, sample):\n",
    "        image, eyes = sample['face'], sample['eyes_coor']\n",
    "\n",
    "        h, w = image.shape[:2]\n",
    "        # if isinstance(self.output_size, int):\n",
    "        #    if h > w:\n",
    "        #        new_h, new_w = self.output_size * h / w, self.output_size\n",
    "        #    else:\n",
    "        #        new_h, new_w = self.output_size, self.output_size * w / h\n",
    "        # else:\n",
    "        new_h, new_w = self.output_size, self.output_size\n",
    "        new_h, new_w = int(new_h), int(new_w)\n",
    "\n",
    "        img = transform.resize(image, (new_h, new_w))\n",
    "\n",
    "        for i in range(2):\n",
    "            eyes[i] = eyes[i] * new_w / w\n",
    "        for i in range(2, 4, 1):\n",
    "            eyes[i] = eyes[i] * new_h / h\n",
    "        eyes[4] = eyes[4] * new_w / w\n",
    "        eyes[5] = eyes[5] * new_h / h\n",
    "\n",
    "        x, y = sample['x'], sample['y']\n",
    "        # opt_flow = sample['opt_flow']\n",
    "\n",
    "        return {'face': img, 'eyes_coor': eyes, 'x': x, 'y': y}\n",
    "\n",
    "    '''opt_flow': opt_flow'''\n",
    "\n",
    "class ToTensor(object):\n",
    "    def __call__(self, sample):\n",
    "        image, eyes = sample['face'], sample['eyes_coor']\n",
    "        x, y = (sample['x'] + 800) / 1600, (sample['y'] + 800) / 1600\n",
    "        # opt_flow = sample['opt_flow']\n",
    "        image = image.transpose((2, 0, 1))\n",
    "        return {'face': torch.from_numpy(image).type(torch.DoubleTensor),\n",
    "                'eyes_coor': torch.from_numpy(eyes).type(torch.DoubleTensor),\n",
    "                'gt_coor': torch.tensor([x, y]).type(torch.DoubleTensor)}\n",
    "\n",
    "    '''opt_flow': torch.from_numpy(opt_flow.values)'''\n",
    "\n",
    "\n",
    "class Net(nn.Module):\n",
    "    def __init__(self):\n",
    "        super().__init__()\n",
    "        self.conv1 = nn.Conv2d(3, 6, 5)\n",
    "        self.pool = nn.MaxPool2d(2, 2)\n",
    "        self.conv2 = nn.Conv2d(6, 16, 5)\n",
    "        self.fc1 = nn.Linear(59536, 120)\n",
    "        self.fc2 = nn.Linear(120, 84)\n",
    "        self.fc3 = nn.Linear(84, 2)\n",
    "\n",
    "    def forward(self, x):\n",
    "        x = self.pool(F.relu(self.conv1(x)))\n",
    "        x = self.pool(F.relu(self.conv2(x)))\n",
    "        x = torch.flatten(x, 1)  # flatten all dimensions except batch\n",
    "        x = F.relu(self.fc1(x))\n",
    "        x = F.relu(self.fc2(x))\n",
    "        x = self.fc3(x)\n",
    "        return x"
   ],
   "metadata": {
    "collapsed": false,
    "pycharm": {
     "name": "#%%\n"
    }
   }
  },
  {
   "cell_type": "code",
   "execution_count": null,
   "outputs": [
    {
     "name": "stdout",
     "output_type": "stream",
     "text": [
      "start splitting at:  2022-06-29 21:08:58.430322\n"
     ]
    }
   ],
   "source": [
    "dataset = GazeEstimationDataset(csv_file=\"full_face/total.csv\", root_dir=\"\")\n",
    "transformed_dataset = GazeEstimationDataset(csv_file=\"full_face/total.csv\", root_dir=\"\",\n",
    "                                            transform=transforms.Compose([Rescale(256), ToTensor()]))\n",
    "start = datetime.now()\n",
    "print(\"start splitting at: \", start)\n",
    "train, test = train_test_split(transformed_dataset)\n",
    "end = datetime.now()\n",
    "print(\"splitting done after: \", end - start)"
   ],
   "metadata": {
    "collapsed": false,
    "pycharm": {
     "name": "#%%\n",
     "is_executing": true
    }
   }
  },
  {
   "cell_type": "code",
   "execution_count": null,
   "outputs": [],
   "source": [
    "batch_size = 20\n",
    "trainloader = DataLoader(train, batch_size=batch_size, shuffle=True, num_workers=0)\n",
    "\n",
    "net = Net()\n",
    "net = net.double()\n",
    "criterion = nn.MSELoss()\n",
    "optimizer = optim.Adam(net.parameters(), lr=0.001)"
   ],
   "metadata": {
    "collapsed": false,
    "pycharm": {
     "name": "#%%\n"
    }
   }
  },
  {
   "cell_type": "code",
   "execution_count": null,
   "outputs": [],
   "source": [
    "n = 7\n",
    "for epoch in range(n):\n",
    "    with tqdm(trainloader, unit=\"batch\") as tepoch:\n",
    "        running_loss = 0.0\n",
    "        for data in tepoch:\n",
    "            # print(data['face'].shape)\n",
    "            tepoch.set_description(f\"Epoch {epoch}\")\n",
    "            inputs = data['face']\n",
    "            # data['eyes_coor']\n",
    "            # data['opt_flow']\n",
    "            labels = data['gt_coor']\n",
    "\n",
    "            optimizer.zero_grad()\n",
    "\n",
    "            output = net(inputs)\n",
    "            loss = criterion(output, labels)\n",
    "            loss.backward()\n",
    "            optimizer.step()\n",
    "\n",
    "            correct = (abs(output - labels)).sum().item()\n",
    "            accuracy = correct / batch_size\n",
    "\n",
    "            tepoch.set_postfix(loss=loss.item(), accuracy=100-accuracy)\n",
    "            time.sleep(0.1)\n",
    "print('done')\n",
    "path = '../trained_ts.pth'\n",
    "torch.save(net.state_dict(), path)"
   ],
   "metadata": {
    "collapsed": false,
    "pycharm": {
     "name": "#%%\n"
    }
   }
  },
  {
   "cell_type": "code",
   "execution_count": null,
   "outputs": [],
   "source": [
    "total = 0\n",
    "correct = 0\n",
    "\n",
    "with torch.no_grad():\n",
    "    for data in test:\n",
    "        image, labels = data\n",
    "        output = net(image)\n",
    "        _, predicted = torch.max(output.data, 1)\n",
    "        total += 1\n",
    "        correct += abs(predicted-labels)\n",
    "print('overall ', correct/total)"
   ],
   "metadata": {
    "collapsed": false,
    "pycharm": {
     "name": "#%%\n"
    }
   }
  }
 ],
 "metadata": {
  "kernelspec": {
   "display_name": "Python 3",
   "language": "python",
   "name": "python3"
  },
  "language_info": {
   "codemirror_mode": {
    "name": "ipython",
    "version": 2
   },
   "file_extension": ".py",
   "mimetype": "text/x-python",
   "name": "python",
   "nbconvert_exporter": "python",
   "pygments_lexer": "ipython2",
   "version": "2.7.6"
  }
 },
 "nbformat": 4,
 "nbformat_minor": 0
}